{
 "cells": [
  {
   "cell_type": "code",
   "execution_count": null,
   "id": "0f1e0c24",
   "metadata": {},
   "outputs": [],
   "source": [
    "from dataclasses import replace\n",
    "\n",
    "from tabrel.utils.config import ProjectConfig\n",
    "from tabrel.utils.logging import init_logging\n",
    "from tabrel.train import train, generate_synthetic_data, wrap_data\n",
    "\n",
    "config = ProjectConfig.default()\n",
    "x_train, y_train = generate_synthetic_data(num_samples=1000, num_features=config.model.n_features, num_classes=config.model.num_classes)\n",
    "x_val, y_val = generate_synthetic_data(num_samples=200, num_features=config.model.n_features, num_classes=config.model.num_classes)\n",
    "\n",
    "init_logging(config.training)\n",
    "train(train_data=wrap_data(x_train, y=y_train, config=config.training),\n",
    "      val_data=wrap_data(x_val, y=y_val, config=replace(config.training, n_batches=2)),\n",
    "      config=config)"
   ]
  }
 ],
 "metadata": {
  "kernelspec": {
   "display_name": "Python 3",
   "language": "python",
   "name": "python3"
  },
  "language_info": {
   "codemirror_mode": {
    "name": "ipython",
    "version": 3
   },
   "file_extension": ".py",
   "mimetype": "text/x-python",
   "name": "python",
   "nbconvert_exporter": "python",
   "pygments_lexer": "ipython3",
   "version": "3.11.12"
  }
 },
 "nbformat": 4,
 "nbformat_minor": 5
}
