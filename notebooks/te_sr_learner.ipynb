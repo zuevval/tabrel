{
 "cells": [
  {
   "cell_type": "code",
   "execution_count": null,
   "id": "5b60bdaa",
   "metadata": {},
   "outputs": [],
   "source": [
    "%load_ext autoreload\n",
    "%autoreload 2\n",
    "\n",
    "from pathlib import Path\n",
    "from tabrel.utils.treatment import load_ihdp_data, generate_indices\n",
    "\n",
    "ihdp_data, ihdp_exclude_cols, ihdp_tau_colname, ihdp_y_fact_colname, ihdp_y_cfact_colname, ihdp_treatment_colname = load_ihdp_data(Path(\"../CEVAE/datasets/IHDP\"))\n",
    "x_all = ihdp_data.drop(columns=ihdp_exclude_cols + [ihdp_tau_colname])\n",
    "y_fact, y_cfact = ihdp_data[ihdp_y_fact_colname], ihdp_data[ihdp_y_cfact_colname]\n",
    "treatment_all = ihdp_data[ihdp_treatment_colname]\n",
    "q_ids, b_ids, v_ids = generate_indices(seed=42, n_total=len(x_all))"
   ]
  },
  {
   "cell_type": "code",
   "execution_count": null,
   "id": "37277b24",
   "metadata": {},
   "outputs": [],
   "source": [
    "import numpy as np\n",
    "import pandas as pd\n",
    "\n",
    "# 1. x_rs: concatenate x_all with validation set features\n",
    "x_rs = pd.concat([x_all, x_all.iloc[v_ids]], ignore_index=True)\n",
    "\n",
    "# 2. y_fact_rs: concatenate y_fact with counterfactual outcomes for validation set\n",
    "y_fact_rs = pd.concat([y_fact, y_cfact.iloc[v_ids]], ignore_index=True)\n",
    "\n",
    "# 3. treatment_rs: concatenate treatment_all with inverted treatment values for validation set\n",
    "treatment_rs = pd.concat(\n",
    "    [treatment_all, 1 - treatment_all.iloc[v_ids]], ignore_index=True\n",
    ")\n",
    "\n",
    "# 4. v_rs_ids: concatenate original indices (for new rows) and v_ids\n",
    "new_indices = np.arange(len(x_all), len(x_all) + len(v_ids))\n",
    "v_rs_ids = np.concatenate([new_indices, v_ids])\n",
    "\n",
    "# 5. r_rs: square matrix, r_rs[i, j] = 1 if treatment[i] == treatment[j], else 0\n",
    "treatment_array = treatment_rs.to_numpy()\n",
    "r_rs = (treatment_array[:, None] == treatment_array[None, :]).astype(int)"
   ]
  },
  {
   "cell_type": "code",
   "execution_count": null,
   "id": "6946c642",
   "metadata": {},
   "outputs": [],
   "source": [
    "import torch\n",
    "from sklearn.metrics import mean_squared_error\n",
    "\n",
    "from tabrel.train import train_relnet\n",
    "\n",
    "tau_val_ground = ihdp_data[ihdp_tau_colname][v_ids].to_numpy()\n",
    "n_val = len(v_ids)\n",
    "\n",
    "def train_relnet_shorthand(x: pd.DataFrame, r: np.ndarray, seed: int = 42) -> float:\n",
    "    torch.manual_seed(seed)\n",
    "    _, _, _, y_val_pred, _ = train_relnet(\n",
    "        x=x.to_numpy(),\n",
    "        y=y_fact_rs.to_numpy(),\n",
    "        r=r,\n",
    "        backgnd_indices=b_ids,\n",
    "        query_indices=q_ids,\n",
    "        val_indices=v_rs_ids,\n",
    "        lr=.01,\n",
    "        n_epochs=1500,\n",
    "        n_layers=2,\n",
    "        periodic_embed_dim=None,\n",
    "        num_heads=2,\n",
    "        progress_bar=False,\n",
    "        print_loss=True,\n",
    "    )\n",
    "    y_val_fact_hat, y_val_cfact_hat = y_val_pred[:n_val], y_val_pred[n_val:]\n",
    "    tau_val_pred = np.abs(y_val_fact_hat - y_val_cfact_hat)\n",
    "    return mean_squared_error(tau_val_ground, tau_val_pred)\n",
    "\n",
    "pehe_val_rs = train_relnet_shorthand(x_rs, r_rs)\n",
    "print(f\"PEHE {pehe_val_rs:.2f}\") # 16.51"
   ]
  },
  {
   "cell_type": "markdown",
   "id": "6845f318",
   "metadata": {},
   "source": [
    "# Standard S-learner"
   ]
  },
  {
   "cell_type": "code",
   "execution_count": null,
   "id": "1d9df9f0",
   "metadata": {},
   "outputs": [],
   "source": [
    "x_s = x_rs.copy()\n",
    "x_s[ihdp_treatment_colname] = treatment_rs\n",
    "r_s = np.zeros_like(r_rs)\n",
    "pehe_val_s = train_relnet_shorthand(x_s, r_s)\n",
    "print(f\"PEHE (standard S-learner): {pehe_val_s:.2f}\") # 26.89"
   ]
  }
 ],
 "metadata": {
  "kernelspec": {
   "display_name": "tabrel",
   "language": "python",
   "name": "python3"
  },
  "language_info": {
   "codemirror_mode": {
    "name": "ipython",
    "version": 3
   },
   "file_extension": ".py",
   "mimetype": "text/x-python",
   "name": "python",
   "nbconvert_exporter": "python",
   "pygments_lexer": "ipython3",
   "version": "3.11.13"
  }
 },
 "nbformat": 4,
 "nbformat_minor": 5
}
