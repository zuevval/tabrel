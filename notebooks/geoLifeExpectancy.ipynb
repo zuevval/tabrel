{
 "cells": [
  {
   "cell_type": "code",
   "execution_count": null,
   "id": "4bf789f1",
   "metadata": {},
   "outputs": [],
   "source": [
    "%load_ext autoreload\n",
    "%autoreload 2\n",
    "\n",
    "from pathlib import Path\n",
    "from typing import Final\n",
    "import kagglehub\n",
    "from pycountry import countries\n",
    "\n",
    "import pandas as pd\n",
    "import plotly.express as px\n",
    "import seaborn as sns\n",
    "\n",
    "path = kagglehub.dataset_download(\"amirhosseinmirzaie/countries-life-expectancy\")\n",
    "df = pd.read_csv(list(Path(path).glob(\"*.csv\"))[0])\n",
    "\n",
    "class NoneCountry:\n",
    "    alpha_3 = None\n",
    "    \n",
    "df[\"ISO_alpha\"] = df[\"Country\"].apply(lambda x: countries.get(name=x, default=NoneCountry).alpha_3)\n",
    "df"
   ]
  },
  {
   "cell_type": "code",
   "execution_count": null,
   "id": "9ee3ac4a",
   "metadata": {},
   "outputs": [],
   "source": [
    "df_2015 = df[df[\"Year\"] == 2015]\n",
    "features: Final[list[str]] = [\"Hepatitis B\", \"Polio\", \"Diphtheria\", \"HIV/AIDS\", \"BMI\"]\n",
    "response: Final[str] = \"Life expectancy\"\n",
    "\n",
    "sns.pairplot(df_2015[features + [response]],hue=response)\n",
    "\n",
    "px.choropleth(\n",
    "    df_2015,\n",
    "    locations=\"ISO_alpha\",\n",
    "    color=\"Life expectancy\"\n",
    ")"
   ]
  },
  {
   "cell_type": "code",
   "execution_count": null,
   "id": "8b0cd362",
   "metadata": {},
   "outputs": [],
   "source": [
    "df_2015.set_index(\"ISO_alpha\", inplace=True)"
   ]
  },
  {
   "cell_type": "code",
   "execution_count": null,
   "id": "be8cb33b",
   "metadata": {},
   "outputs": [],
   "source": [
    "import geopandas as gpd\n",
    "from tabrel.utils.geo import build_border_map, build_r_countries\n",
    "\n",
    "world = gpd.read_file(\"/Users/vzuev/Documents/git/gh_zuevval/tabrel/data/ne_50m_admin_0_countries/ne_50m_admin_0_countries.shp\")\n",
    "\n",
    "world = world[world['ISO_A3_EH'] != '-99']\n",
    "border_map = build_border_map(world)"
   ]
  },
  {
   "cell_type": "code",
   "execution_count": null,
   "id": "73ebc88f",
   "metadata": {},
   "outputs": [],
   "source": [
    "R, iso_list = build_r_countries(df_2015, border_map)\n",
    "y = df_2015[response].to_numpy()\n",
    "all_isos = set(iso_list)\n",
    "iso_list = list(all_isos) # remove Nones"
   ]
  },
  {
   "cell_type": "code",
   "execution_count": null,
   "id": "5dc6318a",
   "metadata": {},
   "outputs": [],
   "source": [
    "from itertools import combinations\n",
    "\n",
    "import numpy as np\n",
    "import torch\n",
    "from tabrel.benchmark.nw_regr import run_training\n",
    "from tabrel.train import train_relnet\n",
    "from tabrel.utils.geo import get_connected_country_set\n",
    "from tqdm import tqdm\n",
    "\n",
    "\n",
    "max_query_size = max_val_size = 40\n",
    "min_query_size = min_val_size = 10\n",
    "\n",
    "# np.random.seed(42)\n",
    "# iso_perm = np.random.permutation(iso_list)\n",
    "# query_set = set(iso_perm[:max_query_size])\n",
    "# val_set = set(iso_perm[max_query_size: max_query_size + max_val_size])\n",
    "\n",
    "X = df_2015[\n",
    "    [\"Polio\", \"HIV/AIDS\", \"Diphtheria\", \"under-five deaths\"]\n",
    "    # [\"Alcohol\"]\n",
    "    # [\"thinness  1-19 years\"],\n",
    "    # [\"BMI\"],\n",
    "    ].to_numpy()\n",
    "\n",
    "results = {}\n",
    "\n",
    "for query_iso, val_iso in (\n",
    "    (\"MNE\", \"EGY\"),\n",
    "    (\"TCD\", \"PER\"),\n",
    "    (\"AFG\", \"ESP\"),\n",
    "    ): #tqdm(list(combinations(all_isos, 2))): - wrong! overlaps may occur\n",
    "     \n",
    "    query_set = get_connected_country_set(query_iso, border_map, max_size=max_query_size)\n",
    "    val_set = get_connected_country_set(val_iso, border_map, max_size=max_val_size)\n",
    "\n",
    "    if len(query_set) < min_query_size or len(val_set) < min_val_size:\n",
    "        continue\n",
    "\n",
    "    backgnd_set = all_isos - query_set - val_set\n",
    "\n",
    "    backgnd_indices = np.array([i for i, iso in enumerate(iso_list) if iso in backgnd_set])\n",
    "    query_indices = np.array([i for i, iso in enumerate(iso_list) if iso in query_set])\n",
    "    val_indices = np.array([i for i, iso in enumerate(iso_list) if iso in val_set])\n",
    "\n",
    "    res = run_training(\n",
    "        x=X, y=y, r=R,\n",
    "        backgnd_indices=backgnd_indices,\n",
    "        query_indices=query_indices,\n",
    "        val_indices=val_indices,\n",
    "        lr=0.006,\n",
    "        n_epochs=100,\n",
    "\n",
    "    )\n",
    "\n",
    "    torch.manual_seed(42)\n",
    "    results_relnet = train_relnet(\n",
    "        x=X,\n",
    "        y=y,\n",
    "        r=R,\n",
    "        backgnd_indices=np.array(backgnd_indices),\n",
    "        query_indices=np.array(query_indices),\n",
    "        val_indices=np.array(val_indices),\n",
    "        lr=.01,\n",
    "        n_epochs=1500,\n",
    "        periodic_embed_dim=None,\n",
    "        progress_bar=False,\n",
    "        print_loss=False,\n",
    "        n_layers=2,\n",
    "        num_heads=2,\n",
    "        embed_dim=8,\n",
    "    )\n",
    "    res[\"TabRel\"] = results_relnet\n",
    "    results[(query_iso, val_iso)] = res\n"
   ]
  },
  {
   "cell_type": "code",
   "execution_count": null,
   "id": "85f7cd8c",
   "metadata": {},
   "outputs": [],
   "source": [
    "for key in (\"rel=True\", \"rel=False\", \"lgb\", \"TabRel\"):\n",
    "    print(key, \"r2:\", [val[key][1] for val in results.values()])"
   ]
  },
  {
   "cell_type": "code",
   "execution_count": null,
   "id": "16f3e730",
   "metadata": {},
   "outputs": [],
   "source": [
    "# TODO try parameters grid"
   ]
  }
 ],
 "metadata": {
  "kernelspec": {
   "display_name": "tabrel",
   "language": "python",
   "name": "python3"
  },
  "language_info": {
   "codemirror_mode": {
    "name": "ipython",
    "version": 3
   },
   "file_extension": ".py",
   "mimetype": "text/x-python",
   "name": "python",
   "nbconvert_exporter": "python",
   "pygments_lexer": "ipython3",
   "version": "3.11.13"
  }
 },
 "nbformat": 4,
 "nbformat_minor": 5
}
