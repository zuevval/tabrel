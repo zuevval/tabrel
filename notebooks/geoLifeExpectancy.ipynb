{
 "cells": [
  {
   "cell_type": "code",
   "execution_count": null,
   "id": "4bf789f1",
   "metadata": {},
   "outputs": [],
   "source": [
    "%load_ext autoreload\n",
    "%autoreload 2\n",
    "\n",
    "from pathlib import Path\n",
    "from typing import Final\n",
    "import kagglehub\n",
    "from pycountry import countries\n",
    "\n",
    "import pandas as pd\n",
    "import plotly.express as px\n",
    "import seaborn as sns\n",
    "\n",
    "path = kagglehub.dataset_download(\"amirhosseinmirzaie/countries-life-expectancy\")\n",
    "df = pd.read_csv(list(Path(path).glob(\"*.csv\"))[0])\n",
    "\n",
    "class NoneCountry:\n",
    "    alpha_3 = None\n",
    "    \n",
    "df[\"ISO_alpha\"] = df[\"Country\"].apply(lambda x: countries.get(name=x, default=NoneCountry).alpha_3)\n",
    "df"
   ]
  },
  {
   "cell_type": "code",
   "execution_count": null,
   "id": "9ee3ac4a",
   "metadata": {},
   "outputs": [],
   "source": [
    "df_2015 = df[df[\"Year\"] == 2015]\n",
    "features: Final[list[str]] = [\"Hepatitis B\", \"Polio\", \"Diphtheria\", \"HIV/AIDS\"]\n",
    "response: Final[str] = \"Life expectancy\"\n",
    "sns.pairplot(df_2015[features + [response]],hue=response)\n",
    "\n",
    "px.choropleth(\n",
    "    df_2015,\n",
    "    locations=\"ISO_alpha\",\n",
    "    color=\"Life expectancy\"\n",
    ")"
   ]
  },
  {
   "cell_type": "code",
   "execution_count": null,
   "id": "be8cb33b",
   "metadata": {},
   "outputs": [],
   "source": [
    "import geopandas as gpd\n",
    "from tabrel.utils.geo import build_border_map, build_r_countries\n",
    "\n",
    "world = gpd.read_file(\"/Users/vzuev/Documents/git/gh_zuevval/tabrel/data/ne_50m_admin_0_countries/ne_50m_admin_0_countries.shp\")\n",
    "\n",
    "world = world[world['ISO_A3_EH'] != '-99']\n",
    "border_map = build_border_map(world)"
   ]
  },
  {
   "cell_type": "code",
   "execution_count": null,
   "id": "73ebc88f",
   "metadata": {},
   "outputs": [],
   "source": [
    "df_2015.set_index(\"ISO_alpha\", inplace=True)\n",
    "R, iso_list = build_r_countries(df_2015, border_map)\n",
    "y = df_2015[response].to_numpy()\n",
    "all_isos = set(iso_list)"
   ]
  },
  {
   "cell_type": "code",
   "execution_count": null,
   "id": "5dc6318a",
   "metadata": {},
   "outputs": [],
   "source": [
    "import numpy as np\n",
    "from tabrel.train import train_relnet\n",
    "from tabrel.utils.geo import get_connected_country_set\n",
    "\n",
    "query_iso, val_iso = \"MNE\", \"EGY\"\n",
    "max_query_size = max_val_size = 35\n",
    "query_set = get_connected_country_set(query_iso, border_map, max_size=max_query_size)\n",
    "val_set = get_connected_country_set(val_iso, border_map, max_size=max_val_size)\n",
    "\n",
    "backgnd_set = all_isos - query_set - val_set\n",
    "\n",
    "backgnd_indices = [i for i, iso in enumerate(iso_list) if iso in backgnd_set]\n",
    "query_indices = [i for i, iso in enumerate(iso_list) if iso in query_set]\n",
    "val_indices = [i for i, iso in enumerate(iso_list) if iso in val_set]\n",
    "\n",
    "X = df_2015[[\"Polio\", \"HIV/AIDS\", \"Diphtheria\"]].to_numpy()\n",
    "results_relnet = train_relnet(\n",
    "    x=X,\n",
    "    y=y,\n",
    "    r=R,\n",
    "    backgnd_indices=np.array(backgnd_indices),\n",
    "    query_indices=np.array(query_indices),\n",
    "    val_indices=np.array(val_indices),\n",
    "    lr=.01,\n",
    "    n_epochs=1000,\n",
    "    periodic_embed_dim=None,\n",
    "    progress_bar=False,\n",
    "    print_loss=True,\n",
    "    n_layers=2,\n",
    "    num_heads=2,\n",
    "    embed_dim=8,\n",
    ")"
   ]
  },
  {
   "cell_type": "code",
   "execution_count": null,
   "id": "16f3e730",
   "metadata": {},
   "outputs": [],
   "source": [
    "results_relnet\n",
    "\n",
    "# TODO try random query, val sets\n",
    "# TODO compare with LightGBM; select important features using LightGBM"
   ]
  }
 ],
 "metadata": {
  "kernelspec": {
   "display_name": "tabrel",
   "language": "python",
   "name": "python3"
  },
  "language_info": {
   "codemirror_mode": {
    "name": "ipython",
    "version": 3
   },
   "file_extension": ".py",
   "mimetype": "text/x-python",
   "name": "python",
   "nbconvert_exporter": "python",
   "pygments_lexer": "ipython3",
   "version": "3.11.13"
  }
 },
 "nbformat": 4,
 "nbformat_minor": 5
}
