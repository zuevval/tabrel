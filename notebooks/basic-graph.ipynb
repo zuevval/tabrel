{
 "cells": [
  {
   "cell_type": "code",
   "execution_count": null,
   "id": "37326125",
   "metadata": {},
   "outputs": [],
   "source": [
    "from torch_geometric.datasets import Planetoid\n",
    "import networkx as nx\n",
    "import matplotlib.pyplot as plt\n",
    "from sklearn.manifold import TSNE\n",
    "from sklearn.decomposition import PCA\n",
    "\n",
    "# Load Cora dataset\n",
    "dataset = Planetoid(root='/tmp/Cora', name='Cora')\n",
    "data = dataset[0]  # Get the first (and only) graph\n",
    "\n",
    "print(\"Cora Dataset Info:\")\n",
    "print(\"==================\")\n",
    "print(f\"Number of nodes: {data.num_nodes}\")      # 2,708 nodes (papers)\n",
    "print(f\"Number of edges: {data.num_edges}\")      # 5,429 edges (citations)\n",
    "print(f\"Number of features: {data.num_features}\") # 1,433 (bag-of-words)\n",
    "print(f\"Number of classes: {dataset.num_classes}\") # 7 (paper topics)\n",
    "print(f\"Has isolated nodes: {data.has_isolated_nodes()}\") # False\n",
    "print(f\"Has self-loops: {data.has_self_loops()}\") # False"
   ]
  },
  {
   "cell_type": "code",
   "execution_count": null,
   "id": "0a2840ed",
   "metadata": {},
   "outputs": [],
   "source": [
    "# Use t-SNE for non-linear dimensionality reduction\n",
    "tsne = TSNE(n_components=2, perplexity=30, random_state=42)\n",
    "node_features_2d = tsne.fit_transform(data.x.numpy())\n",
    "\n",
    "# Plot\n",
    "plt.figure(figsize=(10, 8))\n",
    "scatter = plt.scatter(\n",
    "    node_features_2d[:, 0],\n",
    "    node_features_2d[:, 1],\n",
    "    c=data.y.numpy(),\n",
    "    cmap='viridis',\n",
    "    alpha=0.7,\n",
    "    s=10\n",
    ")\n",
    "plt.colorbar(scatter, label='Class')\n",
    "plt.title(\"Cora Node Features (t-SNE)\")\n",
    "plt.xlabel(\"t-SNE Dimension 1\")\n",
    "plt.ylabel(\"t-SNE Dimension 2\")\n",
    "plt.show()"
   ]
  },
  {
   "cell_type": "code",
   "execution_count": null,
   "id": "f68c19e4",
   "metadata": {},
   "outputs": [],
   "source": [
    "# Convert PyG graph to NetworkX (for visualization)\n",
    "edge_index = data.edge_index.numpy()\n",
    "G = nx.Graph()\n",
    "G.add_edges_from([(edge_index[0][i], edge_index[1][i]) for i in range(edge_index.shape[1])])\n",
    "\n",
    "# Plot a subgraph\n",
    "n_points = 1000\n",
    "subgraph = G.subgraph(range(n_points))\n",
    "plt.figure(figsize=(10, 8))\n",
    "nx.draw(\n",
    "    subgraph,\n",
    "    pos=nx.spring_layout(subgraph, seed=42),\n",
    "    node_size=50,\n",
    "    node_color=data.y[:n_points].numpy(),\n",
    "    cmap='viridis',\n",
    "    with_labels=False,\n",
    "    alpha=0.8\n",
    ")\n",
    "plt.title(\"Cora Citation Graph (Subset)\")\n",
    "plt.show()"
   ]
  }
 ],
 "metadata": {
  "kernelspec": {
   "display_name": "Python 3",
   "language": "python",
   "name": "python3"
  },
  "language_info": {
   "codemirror_mode": {
    "name": "ipython",
    "version": 3
   },
   "file_extension": ".py",
   "mimetype": "text/x-python",
   "name": "python",
   "nbconvert_exporter": "python",
   "pygments_lexer": "ipython3",
   "version": "3.11.12"
  }
 },
 "nbformat": 4,
 "nbformat_minor": 5
}
