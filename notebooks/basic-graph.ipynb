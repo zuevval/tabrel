{
 "cells": [
  {
   "cell_type": "code",
   "execution_count": null,
   "id": "37326125",
   "metadata": {},
   "outputs": [],
   "source": [
    "from torch_geometric.datasets import Planetoid\n",
    "import networkx as nx\n",
    "import matplotlib.pyplot as plt\n",
    "from sklearn.manifold import TSNE\n",
    "\n",
    "# Load Cora dataset\n",
    "dataset = Planetoid(root='/tmp/Cora', name='Cora')\n",
    "data = dataset[0]  # Get the first (and only) graph\n",
    "\n",
    "print(\"Cora Dataset Info:\")\n",
    "print(\"==================\")\n",
    "print(f\"Number of nodes: {data.num_nodes}\")      # 2,708 nodes (papers)\n",
    "print(f\"Number of edges: {data.num_edges}\")      # 5,429 edges (citations)\n",
    "print(f\"Number of features: {data.num_features}\") # 1,433 (bag-of-words)\n",
    "print(f\"Number of classes: {dataset.num_classes}\") # 7 (paper topics)\n",
    "print(f\"Has isolated nodes: {data.has_isolated_nodes()}\") # False\n",
    "print(f\"Has self-loops: {data.has_self_loops()}\") # False"
   ]
  },
  {
   "cell_type": "code",
   "execution_count": null,
   "id": "0a2840ed",
   "metadata": {},
   "outputs": [],
   "source": [
    "# Use t-SNE for non-linear dimensionality reduction\n",
    "tsne = TSNE(n_components=2, perplexity=30, random_state=42)\n",
    "node_features_2d = tsne.fit_transform(data.x.numpy())\n",
    "\n",
    "# Plot\n",
    "plt.figure(figsize=(10, 8))\n",
    "scatter = plt.scatter(\n",
    "    node_features_2d[:, 0],\n",
    "    node_features_2d[:, 1],\n",
    "    c=data.y.numpy(),\n",
    "    cmap='viridis',\n",
    "    alpha=0.7,\n",
    "    s=10\n",
    ")\n",
    "plt.colorbar(scatter, label='Class')\n",
    "plt.title(\"Cora Node Features (t-SNE)\")\n",
    "plt.xlabel(\"t-SNE Dimension 1\")\n",
    "plt.ylabel(\"t-SNE Dimension 2\")\n",
    "plt.show()"
   ]
  },
  {
   "cell_type": "code",
   "execution_count": null,
   "id": "f68c19e4",
   "metadata": {},
   "outputs": [],
   "source": [
    "# Convert PyG graph to NetworkX (for visualization)\n",
    "edge_index = data.edge_index.numpy()\n",
    "G = nx.Graph()\n",
    "G.add_edges_from([(edge_index[0][i], edge_index[1][i]) for i in range(edge_index.shape[1])])\n",
    "\n",
    "\n",
    "plt.figure(figsize=(10, 8))\n",
    "nx.draw(\n",
    "    G,\n",
    "    pos=nx.spring_layout(G, seed=42),\n",
    "    node_size=50,\n",
    "    node_color=data.y.numpy(),\n",
    "    cmap='viridis',\n",
    "    with_labels=False,\n",
    "    alpha=0.8\n",
    ")\n",
    "plt.title(\"Cora Citation Graph\")\n",
    "plt.show()"
   ]
  },
  {
   "cell_type": "markdown",
   "id": "89e8228d",
   "metadata": {},
   "source": [
    "# Prepare training and validation data\n",
    "\n",
    "Cora is already split into training and validation sets (`data.train_mask`, `data.test_mask`).\n",
    "For demonstation purposes, we'll use smaller sets and TSNE embeddings, not original features"
   ]
  },
  {
   "cell_type": "markdown",
   "id": "51177126",
   "metadata": {},
   "source": [
    "**Construct a relationship matrix from edges**"
   ]
  },
  {
   "cell_type": "code",
   "execution_count": null,
   "id": "8d44d1c4",
   "metadata": {},
   "outputs": [],
   "source": [
    "from typing import Final\n",
    "import numpy as np\n",
    "\n",
    "n_nodes: Final[int] = len(data.x)\n",
    "r_full = np.eye(n_nodes)\n",
    "\n",
    "for i, j in data.edge_index.T:\n",
    "    r_full[i, j] = r_full[j, i] = 1"
   ]
  },
  {
   "cell_type": "markdown",
   "id": "e72151bc",
   "metadata": {},
   "source": [
    "**Construct a reduced dataset**"
   ]
  },
  {
   "cell_type": "code",
   "execution_count": null,
   "id": "aed79d93",
   "metadata": {},
   "outputs": [],
   "source": [
    "from tabrel.dataset import QueryUniqueBatchDataset\n",
    "\n",
    "n_train: Final[int] = 500\n",
    "n_test: Final[int] = n_train\n",
    "data_full = QueryUniqueBatchDataset(x=node_features_2d, y=data.y, r=r_full, query_size=n_train, batch_size=n_test, n_batches=1, random_state=42)\n",
    "for x_train, y_train, x_test, y_test, r_train_test in data_full:\n",
    "    break\n",
    "\n",
    "r_train = r_train_test[:n_train, :n_train]\n",
    "r_test_inter = r_train_test[n_train:, :n_train]\n",
    "r_test_intra = r_train_test[n_train:, n_train:]"
   ]
  },
  {
   "cell_type": "markdown",
   "id": "d6da9eda",
   "metadata": {},
   "source": [
    "# Train classifiers"
   ]
  },
  {
   "cell_type": "code",
   "execution_count": null,
   "id": "b9c0b59a",
   "metadata": {},
   "outputs": [],
   "source": [
    "from tabrel.sklearn_interface import TabRelClassifier\n",
    "from tabrel.utils.config import ProjectConfig, ClassifierConfig, TrainingConfig\n",
    "\n",
    "for rel in (True, False):  # using or not using relationships\n",
    "    config = ProjectConfig(\n",
    "        model=ClassifierConfig(\n",
    "            n_features=x_train.shape[1],\n",
    "            d_embedding=32,\n",
    "            d_model=32,\n",
    "            nhead=4,\n",
    "            dim_feedforward=64,\n",
    "            num_layers=2,\n",
    "            num_classes=len(np.unique(data_full.y)),\n",
    "            activation=\"relu\",\n",
    "            rel=rel,\n",
    "            dropout=.1,\n",
    "        ),\n",
    "        training=TrainingConfig.default()\n",
    "    )\n",
    "\n",
    "    classifier = TabRelClassifier(config)\n",
    "    classifier.fit(X=x_train, y=y_train, r=r_train)\n",
    "    y_test_pred = classifier.predict(X=x_test, r_inter=r_test_inter, r_intra=r_test_intra)\n",
    "    acc = (y_test - y_test_pred == 0).sum().item() / n_test\n",
    "    print(f\"acc={acc:.3f}, rel={rel}\")"
   ]
  }
 ],
 "metadata": {
  "kernelspec": {
   "display_name": "Python 3",
   "language": "python",
   "name": "python3"
  },
  "language_info": {
   "codemirror_mode": {
    "name": "ipython",
    "version": 3
   },
   "file_extension": ".py",
   "mimetype": "text/x-python",
   "name": "python",
   "nbconvert_exporter": "python",
   "pygments_lexer": "ipython3",
   "version": "3.11.12"
  }
 },
 "nbformat": 4,
 "nbformat_minor": 5
}
