{
 "cells": [
  {
   "cell_type": "code",
   "execution_count": null,
   "id": "488d7038",
   "metadata": {},
   "outputs": [],
   "source": [
    "from typing import Final\n",
    "import torch\n",
    "import torch.nn as nn\n",
    "\n",
    "class RelNwRegr(nn.Module):\n",
    "    def __init__(self, init_sigma: float, init_r_scale: float) -> None:\n",
    "        super().__init__()\n",
    "        self.sigma = nn.Parameter(torch.ones(1) * init_sigma)\n",
    "        self.r_scale = nn.Parameter(torch.ones(1) * init_r_scale)\n",
    "    \n",
    "    def k(self, xi: torch.Tensor, xj: torch.Tensor, rij: float) -> float:\n",
    "        return torch.exp(-torch.norm(xi - xj, 2) / self.sigma + self.r_scale * rij).item()\n",
    "    \n",
    "    def forward(self, x_train: torch.Tensor, y_train: torch.Tensor, x_test: torch.Tensor, r: torch.Tensor) -> torch.Tensor:\n",
    "        \"\"\"\n",
    "        x_train: (n_train, n_features)\n",
    "        x_test: (n_features,)\n",
    "        r[i] = rel(x_train[i], x_test) (n_train,)\n",
    "        \"\"\"\n",
    "        denominator: Final[float] = sum([self.k(xi, x_test, ri) for xi, ri in zip(x_train, r)])\n",
    "        y = 0\n",
    "        for xi, yi, ri in zip(x_train, y_train, r):\n",
    "            y += yi * self.k(xi, x_test, ri)\n",
    "        return y / denominator"
   ]
  },
  {
   "cell_type": "code",
   "execution_count": null,
   "id": "3df04758",
   "metadata": {},
   "outputs": [],
   "source": [
    "import matplotlib.pyplot as plt\n",
    "\n",
    "n_train = 50\n",
    "torch.random.manual_seed(42)\n",
    "x_train = torch.rand((n_train, 1)) * 2 - 1\n",
    "y_train = x_train.flatten() ** 2\n",
    "\n",
    "plt.scatter(x_train.flatten(), y_train, color=\"black\")\n",
    "\n",
    "x_grid = torch.linspace(start=-1, end=1, steps=50).unsqueeze(1)\n",
    "r = torch.zeros((n_train,))\n",
    "for sigma in (.01, .05, .1, .3,):\n",
    "    regr = RelNwRegr(init_sigma=sigma, init_r_scale=1)\n",
    "    y_grid = [regr(x_train, y_train, x, r) for x in x_grid]\n",
    "    plt.plot(x_grid.flatten(), y_grid, \"--\", label=f\"$\\sigma={sigma}$\")\n",
    "\n",
    "plt.legend()"
   ]
  },
  {
   "cell_type": "code",
   "execution_count": null,
   "id": "c03aa4ee",
   "metadata": {},
   "outputs": [],
   "source": [
    "torch.random.manual_seed(42)\n",
    "clusters = torch.randint(0, 3, (n_train,))\n",
    "y_train = x_train.flatten() ** 2\n",
    "y_train += clusters\n",
    "\n",
    "sigma = .1\n",
    "for r_scale in (.5, 2.5, 10):\n",
    "    plt.figure()\n",
    "    plt.scatter(x_train.flatten(), y_train, color=\"black\")\n",
    "\n",
    "    regr = RelNwRegr(init_sigma=sigma, init_r_scale=r_scale)\n",
    "    for i_c in torch.unique(clusters):\n",
    "        y_grid = []\n",
    "        for x in x_grid:\n",
    "            r = (clusters == i_c).int()\n",
    "            y_grid.append(regr(x_train, y_train, x, r))\n",
    "        plt.plot(x_grid, y_grid, \"--\")\n",
    "    \n",
    "    plt.title(f\"r_scale={r_scale}\")"
   ]
  }
 ],
 "metadata": {
  "kernelspec": {
   "display_name": "Python 3",
   "language": "python",
   "name": "python3"
  },
  "language_info": {
   "codemirror_mode": {
    "name": "ipython",
    "version": 3
   },
   "file_extension": ".py",
   "mimetype": "text/x-python",
   "name": "python",
   "nbconvert_exporter": "python",
   "pygments_lexer": "ipython3",
   "version": "3.11.12"
  }
 },
 "nbformat": 4,
 "nbformat_minor": 5
}
