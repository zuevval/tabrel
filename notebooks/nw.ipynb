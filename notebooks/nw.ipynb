{
 "cells": [
  {
   "cell_type": "code",
   "execution_count": null,
   "id": "3df04758",
   "metadata": {},
   "outputs": [],
   "source": [
    "import matplotlib.pyplot as plt\n",
    "import torch\n",
    "\n",
    "from tabrel.benchmark.nw_regr import train_nw, compute_relation_matrix, NwModelConfig, NwTrainConfig\n",
    "\n",
    "train_cfg = NwTrainConfig(n_clusters=1, use_rel=False, n_test=50)\n",
    "model_cfg = NwModelConfig()\n",
    "reg = train_nw(model_cfg=model_cfg, train_cfg=train_cfg)\n",
    "\n",
    "plt.scatter(reg.x_test.flatten(), reg.y_test_true, color=\"black\")\n",
    "\n",
    "x_grid = torch.linspace(start=-1, end=1, steps=50).unsqueeze(1)\n",
    "r = torch.zeros((len(x_grid), train_cfg.n_train))\n",
    "y_grid = reg.model(reg.x_train, reg.y_train, x_grid, r)\n",
    "plt.plot(x_grid.flatten(), y_grid.detach(), \"--\")"
   ]
  },
  {
   "cell_type": "code",
   "execution_count": null,
   "id": "2cb7e44a",
   "metadata": {},
   "outputs": [],
   "source": [
    "reg.evaluate()"
   ]
  },
  {
   "cell_type": "code",
   "execution_count": null,
   "id": "c03aa4ee",
   "metadata": {},
   "outputs": [],
   "source": [
    "from typing import Final\n",
    "\n",
    "for use_rel in (True, False):\n",
    "    n_clusters: Final[int] = 3\n",
    "    train_cfg = NwTrainConfig(n_clusters=n_clusters, lr=0.1, n_train=100, n_test=50, use_rel=use_rel)\n",
    "    reg = train_nw(model_cfg, train_cfg)\n",
    "\n",
    "    plt.figure()\n",
    "    plt.scatter(reg.x_test.flatten(), reg.y_test_true, color=\"black\")\n",
    "\n",
    "    for i_c in range(n_clusters):\n",
    "        if use_rel:\n",
    "            r = compute_relation_matrix(train_clusters=reg.clusters_train, test_clusters=torch.Tensor([i_c]).expand(len(x_grid)))\n",
    "        else:\n",
    "            r = torch.zeros((train_cfg.n_test, train_cfg.n_train))\n",
    "        y_grid = reg.model(reg.x_train, reg.y_train, x_grid, r)\n",
    "        plt.plot(x_grid, y_grid.detach(), \"--\")\n",
    "\n",
    "    metrics = reg.evaluate()\n",
    "    plt.title(f\"Rel: {use_rel}, $R^2\\\\approx{metrics['r2']:.3f}$, MAE$\\\\approx{metrics['mae']:.3f}$\")\n",
    "\n"
   ]
  }
 ],
 "metadata": {
  "kernelspec": {
   "display_name": "Python 3",
   "language": "python",
   "name": "python3"
  },
  "language_info": {
   "codemirror_mode": {
    "name": "ipython",
    "version": 3
   },
   "file_extension": ".py",
   "mimetype": "text/x-python",
   "name": "python",
   "nbconvert_exporter": "python",
   "pygments_lexer": "ipython3",
   "version": "3.11.12"
  }
 },
 "nbformat": 4,
 "nbformat_minor": 5
}
