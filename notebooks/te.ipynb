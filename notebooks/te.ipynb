{
 "cells": [
  {
   "cell_type": "code",
   "execution_count": null,
   "id": "d79a80c9",
   "metadata": {},
   "outputs": [],
   "source": [
    "from pathlib import Path\n",
    "\n",
    "import numpy as np\n",
    "import pandas as pd\n",
    "\n",
    "def load_ihdp_data(ihdp_path: Path) -> tuple[pd.DataFrame, list[str], str]:\n",
    "    ihdp_cols = [s[:-1] for s in np.loadtxt(ihdp_path / \"columns.txt\", dtype=str)][:-2]\n",
    "    ihdp_cols.extend([f\"x{i}\" for i in range(2, 26)])\n",
    "\n",
    "    csvs = []\n",
    "    for csv_path in (ihdp_path / \"csv\").glob(\"*.csv\"):\n",
    "        csvs.append(pd.read_csv(csv_path, header=None))\n",
    "        break # TODO choose a table, for now using the first table\n",
    "    data = pd.concat(csvs)\n",
    "    data.columns = ihdp_cols\n",
    "\n",
    "    y_col_name = \"delta_y\"\n",
    "    data[y_col_name] = (data[\"y_cfactual\"] - data[\"y_factual\"]) * (-1) ** data[\"treatment\"]\n",
    "    exclude_cols = [\"treatment\", \"y_cfactual\", \"y_factual\", \"mu0\", \"mu1\"]\n",
    "    return data, exclude_cols, y_col_name\n",
    "\n",
    "ihdp_data, ihdp_exclude_cols, ihdp_y_colname = load_ihdp_data(Path(\"/Users/vzuev/Documents/git/gh_zuevval/tabrel/CEVAE/datasets/IHDP\"))\n",
    "ihdp_data.head()"
   ]
  },
  {
   "cell_type": "code",
   "execution_count": null,
   "id": "6b08cba3",
   "metadata": {},
   "outputs": [],
   "source": [
    "from typing import Final\n",
    "\n",
    "x_all = ihdp_data.drop(columns=ihdp_exclude_cols + [ihdp_y_colname])\n",
    "\n",
    "ihdp_last_numeric_index: Final[int] = 6\n",
    "x_numeric = x_all.iloc[:, :ihdp_last_numeric_index]\n",
    "x_cat = x_all.iloc[:, ihdp_last_numeric_index:]\n",
    "x_numeric"
   ]
  },
  {
   "cell_type": "code",
   "execution_count": null,
   "id": "37ad4e16",
   "metadata": {},
   "outputs": [],
   "source": [
    "import seaborn as sns\n",
    "\n",
    "x_num_y = x_numeric.copy()\n",
    "x_num_y[ihdp_y_colname] = ihdp_data[ihdp_y_colname]\n",
    "sns.pairplot(x_num_y, hue=ihdp_y_colname)"
   ]
  },
  {
   "cell_type": "code",
   "execution_count": null,
   "id": "163ba47c",
   "metadata": {},
   "outputs": [],
   "source": [
    "from itertools import product\n",
    "from tqdm import tqdm\n",
    "\n",
    "group_col: Final[str] = \"x4\"\n",
    "x = x_all.drop(columns=[group_col])\n",
    "x_len = len(x)\n",
    "categories = x_all[group_col]\n",
    "print(\"n_categories\", len(categories.unique()))\n",
    "\n",
    "r = np.zeros((x_len, x_len))\n",
    "for i, j in tqdm(list(product(range(x_len), range(x_len)))):\n",
    "    if np.isclose(categories[i], categories[j]):\n",
    "        r[i, j] = 1\n",
    "\n",
    "r"
   ]
  },
  {
   "cell_type": "code",
   "execution_count": null,
   "id": "226f4972",
   "metadata": {},
   "outputs": [],
   "source": [
    "from tabrel.benchmark.nw_regr import run_training\n",
    "\n",
    "np.random.seed(42)\n",
    "indices = np.random.permutation(x_len)\n",
    "n_query, n_back = 200, 300\n",
    "query_indices = indices[:n_query]\n",
    "back_indices = indices[n_query:n_back]\n",
    "val_indices = indices[n_back:]\n",
    "\n",
    "res = run_training(\n",
    "    x=x.to_numpy(),\n",
    "    y=ihdp_data[ihdp_y_colname].to_numpy(),\n",
    "    r=r,\n",
    "    backgnd_indices=back_indices,\n",
    "    query_indices=query_indices,\n",
    "    val_indices=val_indices,\n",
    "    lr=1e-4,\n",
    "    n_epochs=10,\n",
    ")\n",
    "for rel in (True, False):\n",
    "    print(rel, res[f\"rel={rel}\"][:-1])"
   ]
  }
 ],
 "metadata": {
  "kernelspec": {
   "display_name": "tabrel",
   "language": "python",
   "name": "python3"
  },
  "language_info": {
   "codemirror_mode": {
    "name": "ipython",
    "version": 3
   },
   "file_extension": ".py",
   "mimetype": "text/x-python",
   "name": "python",
   "nbconvert_exporter": "python",
   "pygments_lexer": "ipython3",
   "version": "3.11.13"
  }
 },
 "nbformat": 4,
 "nbformat_minor": 5
}
